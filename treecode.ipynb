{
 "cells": [
  {
   "cell_type": "code",
   "execution_count": null,
   "metadata": {},
   "outputs": [],
   "source": [
    "import numpy\n",
    "import time\n",
    "from helper import *\n",
    "from matplotlib import pyplot, rcParams\n",
    "%matplotlib inline\n",
    "\n",
    "# customizing plot parameters\n",
    "rcParams['figure.dpi'] = 100\n",
    "rcParams['font.size'] = 14\n",
    "rcParams['font.family'] = 'StixGeneral'"
   ]
  },
  {
   "cell_type": "code",
   "execution_count": null,
   "metadata": {},
   "outputs": [],
   "source": [
    "def evaluate(particles, p, i, cells, capacity, theta):\n",
    "   \n",
    "    if cells[p].nleaf >= capacity:\n",
    "        # loop in p's child cells (8 octants)\n",
    "        for octant in range(8):\n",
    "            if cells[p].nchild & (1 << octant):\n",
    "                c = cells[p].child[octant]\n",
    "                r = particles[i].distance(cells[c])\n",
    "                # near-field child cell\n",
    "                # In the next line, don't confuse .r (radius of the cell) \n",
    "                # with r the distance. We keep this notation to be consistent\n",
    "                # with the previous steps.\n",
    "                if cells[c].r > theta*r: \n",
    "                    evaluate(particles, c, i, cells, capacity, theta)\n",
    "                # far-field child cell\n",
    "                else:\n",
    "                    dx = particles[i].x - cells[c].x\n",
    "                    dy = particles[i].y - cells[c].y\n",
    "                    dz = particles[i].z - cells[c].z\n",
    "                    r3 = r**3\n",
    "                    r5 = r3*r**2\n",
    "                    # calculate the weight for each multipole\n",
    "                    weight = [1/r, -dx/r3, -dy/r3, -dz/r3, 3*dx**2/r5 - 1/r3, \\\n",
    "                              3*dy**2/r5 - 1/r3, 3*dz**2/r5 - 1/r3, 3*dx*dy/r5, \\\n",
    "                              3*dy*dz/r5, 3*dz*dx/r5]\n",
    "                    particles[i].phi += numpy.dot(cells[c].multipole, weight)\n",
    "                \n",
    "    # leaf cell\n",
    "    else:\n",
    "        # loop in leaf cell's particles\n",
    "        for l in range(cells[p].nleaf):\n",
    "            source = particles[cells[p].leaf[l]]\n",
    "            r = particles[i].distance(source)\n",
    "            if r != 0:\n",
    "                particles[i].phi += source.m / r"
   ]
  }
 ],
 "metadata": {
  "language_info": {
   "name": "python"
  },
  "orig_nbformat": 4
 },
 "nbformat": 4,
 "nbformat_minor": 2
}
